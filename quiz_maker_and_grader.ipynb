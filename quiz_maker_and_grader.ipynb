{
  "metadata": {
    "kernelspec": {
      "name": "python",
      "display_name": "Python (Pyodide)",
      "language": "python"
    },
    "language_info": {
      "codemirror_mode": {
        "name": "python",
        "version": 3
      },
      "file_extension": ".py",
      "mimetype": "text/x-python",
      "name": "python",
      "nbconvert_exporter": "python",
      "pygments_lexer": "ipython3",
      "version": "3.8"
    }
  },
  "nbformat_minor": 5,
  "nbformat": 4,
  "cells": [
    {
      "id": "a38f3cc4-c32f-4281-b447-60e9a4af8430",
      "cell_type": "markdown",
      "source": "Quiz Maker & Grader Project",
      "metadata": {}
    },
    {
      "id": "418479b3-3701-4b87-b37c-a36ac649e684",
      "cell_type": "markdown",
      "source": "This system will allow users (Students and Admin) to:\n• Attempt a quiz with 10 multiple-choice Python questions\n\n• Admins should be able to add questions to the existing set of questions\n\n• Select answers by choosing A, B, C, or D\n\n• The user should be able to view immediate feedback for each question (Correct/Incorrect)\n\n• The user should be able to see their final score at the end of the quiz\n\n• The user's score should be saved to a .txt file for record-keeping",
      "metadata": {}
    },
    {
      "id": "b40cb9a7-48be-4103-957d-b87ae0aa6d48",
      "cell_type": "markdown",
      "source": "A dictionary that already has 10 questions stored. The dictionary is required to have a total of 10 question.",
      "metadata": {}
    },
    {
      "id": "8b8434f2-dfd5-4e85-9092-a795f60d3f4a",
      "cell_type": "code",
      "source": "#Quiz questions that students can answer, and it provides the correct answer\n\nquiz_questions = {\n    \"What is the correct file extension for Python files?\\n\": {\n        \"options\": [\"A. .pt\", \"B. .pyth\", \"C. .py\", \"D. .python\"],\n        \"answer\": \"B\"\n},\n\n    \"What is the output of: print(3 * 'Hi ')\\n\":{\n        \"options\": [\"A. Hi\", \"B. Hi Hi\", \"C. HiHiHi\", \"D. Hi Hi Hi\"],\n        \"answer\": \"D\"\n    },\n\n    \"Which of the following is a valid variable name in Python?\\n\":{\n        \"options\": [\"A. user_name\", \"B. Name2\", \"C. user-name\", \"D. 2name\"],\n        \"answer\": \"A\"\n    },\n\n    \"What data type is the result of: input('How old are you?\\n')\":{\n        \"options\": [\"A. boolean\", \"B. string\", \"C. integer\", \"D. float\"],\n        \"answer\": \"B\"\n    },\n\n    \"How do you start a comment in Python?\\n')\":{\n        \"options\": [\"A. ||\", \"B. --\", \"C. #\", \"D. %\"],\n        \"answer\": \"C\"\n    },\n\n    \"Which operator is used for exponentiation in Python?\\n')\":{\n        \"options\": [\"A. **\", \"B. --\", \"C. #\", \"D. !!\"],\n        \"answer\": \"A\"\n    },\n\n    \"Which keyword is used to create a loop in Python?\\n')\":{\n        \"options\": [\"A. for\", \"B. if\", \"C. loop\", \"D. when\"],\n        \"answer\": \"A\"\n    },\n\n    \"What will the following expression return: 5 == 5.0?\\n')\":{\n        \"options\": [\"A. True\", \"B. False\", \"C. None\", \"D. Error\"],\n        \"answer\": \"A\"\n    },\n\n    \"The difference in writing a tuple and a list is\":{\n        \"options\": [\"A. (),{}\", \"B. {},[]\", \"C. (),[]\", \"D. None of the above\"],\n        \"answer\": \"C\"\n    },\n\n    \"What does the len() function do?\":{\n        \"options\": [\"A. (Returns the size of a number\", \"B. Returns the length of an object\", \"C. Returns the largest number\", \"D. All of the above\"],\n        \"answer\": \"B\"\n    }\n}",
      "metadata": {
        "trusted": true
      },
      "outputs": [],
      "execution_count": 39
    },
    {
      "id": "db32225e-e952-48ee-aa96-641d2f420058",
      "cell_type": "markdown",
      "source": "The system should allow the Admin to add more questions and options that can be added to the existing dictionary",
      "metadata": {}
    },
    {
      "id": "f793d286-a95a-46f7-8c45-118a0f1d728f",
      "cell_type": "code",
      "source": "#This function allows Admin to add custom questions, options and correct answer.\n\ndef add_custom_questions():\n    print(\"\\n📝 Add Your Own Questions (type 'done' to stop)\\n\")\n\n    # This loop collects multiple-choice questions where the user is required to input four options and specify the correct answer. \n    while True:\n        question = input(\"Enter your question (or type 'done' to finish): \")\n        if question.lower() == \"done\":\n            break\n        options = [] \n        for i in [\"A\", \"B\", \"C\", \"D\"]:\n            option = input(f\" Enter option {i}: \")\n            options.append(f\"{i}. {option}\")\n        answer = input(\"Enter the correct answer (A, B, C, or D): \").strip().upper()\n        if answer in [\"A\", \"B\", \"C\", \"D\"]:\n            quiz_questions[question] = {\"options\": options, \"answer\": answer}\n            print(\"✅ Question added!\\n\")\n        else:\n            print(\"❌ Invalid answer. Please use A, B, C, or D.\\n\")\n        ",
      "metadata": {
        "trusted": true
      },
      "outputs": [],
      "execution_count": 40
    },
    {
      "id": "f39a0036-d5ef-49d5-9637-36fd80ac6795",
      "cell_type": "markdown",
      "source": "The quiz function will loop through the questions and grade them based on the student's answer",
      "metadata": {}
    },
    {
      "id": "3343132d-6bf4-40ea-a24f-cc148aeb1bfe",
      "cell_type": "code",
      "source": "#This function allows a user to take a quiz, tells the user if the answer to a question is correct or not and show their final score\ndef run_quiz():\n    print(\"\\n🧠 Welcome to the Quiz!! Type A, B, C, or D to answer.\")\n    score = 0\n    total = len(quiz_questions)\n\n    #A loop to check the answer to questions in the dictionary\n    for question, details in quiz_questions.items():\n        print(\"\\n\" + question)\n        for option in details[\"options\"]:\n            print(option)\n\n        answer = input(\"Your answer: \").strip().upper()\n\n        #A condition to check if the answer provided is correct\n        if answer == details[\"answer\"]:\n            print(\"✅ Correct!\")\n            score += 1\n        else:\n            print(f\"❌ Incorrect. The correct answer is {details['answer']}.\")\n\n    print(f\"\\n 🏁 Quiz Complete! Your final score is {score}/{total}\")\n    return score, total",
      "metadata": {
        "trusted": true
      },
      "outputs": [],
      "execution_count": 42
    },
    {
      "id": "18d0d384-a903-495d-857d-425b349b7fa6",
      "cell_type": "code",
      "source": "Save Quiz Results to a File",
      "metadata": {
        "trusted": true
      },
      "outputs": [],
      "execution_count": null
    },
    {
      "id": "b32c33fc-303b-4d5c-b10c-028a59cea706",
      "cell_type": "code",
      "source": "#This function lets students save their name and score to a text file\ndef save_score(name, score, total):\n    with open(\"quiz_scores.txt\", \"a\") as file:\n        file.write(f\"{name}: {score}/{total}\\n\")\n    print(\"📂 Your score has been saved!\\n\")",
      "metadata": {
        "trusted": true
      },
      "outputs": [],
      "execution_count": 43
    },
    {
      "id": "54113017-8a1b-41a3-ab57-902a9fd50a24",
      "cell_type": "markdown",
      "source": "Function for the main program.\nThe function will prompt the student to enter their role and based on the input, decide if they can add questions to the dictionary.",
      "metadata": {}
    },
    {
      "id": "1a91b4c1-5139-4743-bf6c-ded5c092cef4",
      "cell_type": "code",
      "source": "#Function for main program\n\ndef main():\n    print(\"🎉 Welcome to the Quiz Maker & Grader!\")\n    name = input(\"Enter your name: \")\n    role = input(\"Enter your role (admin/student): \").lower()\n\n    # condition to check the role of the person\n    if role == \"admin\":\n        print(f\"\\n🔐 Admin Access Granted. Hello, {name}!\")\n        add_q = input(\"Would you like to add your own questions? (yes/no): \").lower()\n        if add_q == \"yes\":\n            add_custom_questions()\n    elif role == \"student\":\n        print(f\"\\n 👋🏽 Hello, {name}! Let's begin your quiz.\")\n    else:\n        print(\"❌ Invalid role. Exiting program.\")\n        return\n            \n    score, total = run_quiz()\n    save_score(name, score, total)",
      "metadata": {
        "trusted": true
      },
      "outputs": [],
      "execution_count": 44
    },
    {
      "id": "85ed4602-fe17-4e44-926d-6982be22841b",
      "cell_type": "code",
      "source": "",
      "metadata": {
        "trusted": true
      },
      "outputs": [],
      "execution_count": null
    }
  ]
}